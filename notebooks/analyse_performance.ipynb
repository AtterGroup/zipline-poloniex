{
 "cells": [
  {
   "cell_type": "code",
   "execution_count": 6,
   "metadata": {
    "collapsed": false
   },
   "outputs": [],
   "source": [
    "import pandas as pd\n",
    "import matplotlib.pyplot as plt\n",
    "\n",
    "%matplotlib inline"
   ]
  },
  {
   "cell_type": "code",
   "execution_count": 2,
   "metadata": {
    "collapsed": false,
    "scrolled": true
   },
   "outputs": [
    {
     "data": {
      "text/html": [
       "<div>\n",
       "<table border=\"1\" class=\"dataframe\">\n",
       "  <thead>\n",
       "    <tr style=\"text-align: right;\">\n",
       "      <th></th>\n",
       "      <th>ETH</th>\n",
       "      <th>algo_volatility</th>\n",
       "      <th>algorithm_period_return</th>\n",
       "      <th>alpha</th>\n",
       "      <th>benchmark_period_return</th>\n",
       "      <th>benchmark_volatility</th>\n",
       "      <th>beta</th>\n",
       "      <th>capital_used</th>\n",
       "      <th>ending_cash</th>\n",
       "      <th>ending_exposure</th>\n",
       "      <th>...</th>\n",
       "      <th>short_exposure</th>\n",
       "      <th>short_value</th>\n",
       "      <th>shorts_count</th>\n",
       "      <th>sortino</th>\n",
       "      <th>starting_cash</th>\n",
       "      <th>starting_exposure</th>\n",
       "      <th>starting_value</th>\n",
       "      <th>trading_days</th>\n",
       "      <th>transactions</th>\n",
       "      <th>treasury_period_return</th>\n",
       "    </tr>\n",
       "  </thead>\n",
       "  <tbody>\n",
       "    <tr>\n",
       "      <th>2016-01-01 23:59:00+00:00</th>\n",
       "      <td>0.918</td>\n",
       "      <td>NaN</td>\n",
       "      <td>0.000000e+00</td>\n",
       "      <td>None</td>\n",
       "      <td>0.0</td>\n",
       "      <td>None</td>\n",
       "      <td>None</td>\n",
       "      <td>0.000000</td>\n",
       "      <td>1.000000e+07</td>\n",
       "      <td>0.0</td>\n",
       "      <td>...</td>\n",
       "      <td>0</td>\n",
       "      <td>0</td>\n",
       "      <td>0</td>\n",
       "      <td>NaN</td>\n",
       "      <td>10000000.0</td>\n",
       "      <td>0.0</td>\n",
       "      <td>0.0</td>\n",
       "      <td>1</td>\n",
       "      <td>[]</td>\n",
       "      <td>0.0227</td>\n",
       "    </tr>\n",
       "    <tr>\n",
       "      <th>2016-01-02 23:59:00+00:00</th>\n",
       "      <td>0.956</td>\n",
       "      <td>0.000000e+00</td>\n",
       "      <td>0.000000e+00</td>\n",
       "      <td>None</td>\n",
       "      <td>0.0</td>\n",
       "      <td>None</td>\n",
       "      <td>None</td>\n",
       "      <td>0.000000</td>\n",
       "      <td>1.000000e+07</td>\n",
       "      <td>0.0</td>\n",
       "      <td>...</td>\n",
       "      <td>0</td>\n",
       "      <td>0</td>\n",
       "      <td>0</td>\n",
       "      <td>NaN</td>\n",
       "      <td>10000000.0</td>\n",
       "      <td>0.0</td>\n",
       "      <td>0.0</td>\n",
       "      <td>2</td>\n",
       "      <td>[]</td>\n",
       "      <td>0.0227</td>\n",
       "    </tr>\n",
       "    <tr>\n",
       "      <th>2016-01-03 23:59:00+00:00</th>\n",
       "      <td>0.960</td>\n",
       "      <td>9.600184e-07</td>\n",
       "      <td>-1.047466e-07</td>\n",
       "      <td>None</td>\n",
       "      <td>0.0</td>\n",
       "      <td>None</td>\n",
       "      <td>None</td>\n",
       "      <td>-10.647466</td>\n",
       "      <td>9.999989e+06</td>\n",
       "      <td>9.6</td>\n",
       "      <td>...</td>\n",
       "      <td>0</td>\n",
       "      <td>0</td>\n",
       "      <td>0</td>\n",
       "      <td>-9.165151</td>\n",
       "      <td>10000000.0</td>\n",
       "      <td>0.0</td>\n",
       "      <td>0.0</td>\n",
       "      <td>3</td>\n",
       "      <td>[{'price': 0.9550596875, 'sid': Equity(0 [ETH]...</td>\n",
       "      <td>0.0227</td>\n",
       "    </tr>\n",
       "  </tbody>\n",
       "</table>\n",
       "<p>3 rows × 39 columns</p>\n",
       "</div>"
      ],
      "text/plain": [
       "                             ETH  algo_volatility  algorithm_period_return  \\\n",
       "2016-01-01 23:59:00+00:00  0.918              NaN             0.000000e+00   \n",
       "2016-01-02 23:59:00+00:00  0.956     0.000000e+00             0.000000e+00   \n",
       "2016-01-03 23:59:00+00:00  0.960     9.600184e-07            -1.047466e-07   \n",
       "\n",
       "                          alpha  benchmark_period_return benchmark_volatility  \\\n",
       "2016-01-01 23:59:00+00:00  None                      0.0                 None   \n",
       "2016-01-02 23:59:00+00:00  None                      0.0                 None   \n",
       "2016-01-03 23:59:00+00:00  None                      0.0                 None   \n",
       "\n",
       "                           beta  capital_used   ending_cash  ending_exposure  \\\n",
       "2016-01-01 23:59:00+00:00  None      0.000000  1.000000e+07              0.0   \n",
       "2016-01-02 23:59:00+00:00  None      0.000000  1.000000e+07              0.0   \n",
       "2016-01-03 23:59:00+00:00  None    -10.647466  9.999989e+06              9.6   \n",
       "\n",
       "                                    ...            short_exposure  \\\n",
       "2016-01-01 23:59:00+00:00           ...                         0   \n",
       "2016-01-02 23:59:00+00:00           ...                         0   \n",
       "2016-01-03 23:59:00+00:00           ...                         0   \n",
       "\n",
       "                           short_value  shorts_count   sortino  starting_cash  \\\n",
       "2016-01-01 23:59:00+00:00            0             0       NaN     10000000.0   \n",
       "2016-01-02 23:59:00+00:00            0             0       NaN     10000000.0   \n",
       "2016-01-03 23:59:00+00:00            0             0 -9.165151     10000000.0   \n",
       "\n",
       "                           starting_exposure  starting_value  trading_days  \\\n",
       "2016-01-01 23:59:00+00:00                0.0             0.0             1   \n",
       "2016-01-02 23:59:00+00:00                0.0             0.0             2   \n",
       "2016-01-03 23:59:00+00:00                0.0             0.0             3   \n",
       "\n",
       "                                                                transactions  \\\n",
       "2016-01-01 23:59:00+00:00                                                 []   \n",
       "2016-01-02 23:59:00+00:00                                                 []   \n",
       "2016-01-03 23:59:00+00:00  [{'price': 0.9550596875, 'sid': Equity(0 [ETH]...   \n",
       "\n",
       "                           treasury_period_return  \n",
       "2016-01-01 23:59:00+00:00                  0.0227  \n",
       "2016-01-02 23:59:00+00:00                  0.0227  \n",
       "2016-01-03 23:59:00+00:00                  0.0227  \n",
       "\n",
       "[3 rows x 39 columns]"
      ]
     },
     "execution_count": 2,
     "metadata": {},
     "output_type": "execute_result"
    }
   ],
   "source": [
    "perf = pd.read_pickle('./results.pickle') # read in perf DataFrame\n",
    "perf.head()"
   ]
  },
  {
   "cell_type": "code",
   "execution_count": 9,
   "metadata": {
    "collapsed": false
   },
   "outputs": [
    {
     "data": {
      "text/plain": [
       "<matplotlib.text.Text at 0x11337a6d8>"
      ]
     },
     "execution_count": 9,
     "metadata": {},
     "output_type": "execute_result"
    },
    {
     "data": {
      "image/png": "[encoded data removed]",
      "text/plain": [
       "<matplotlib.figure.Figure at 0x112cb49e8>"
      ]
     },
     "metadata": {},
     "output_type": "display_data"
    }
   ],
   "source": [
    "ax1 = plt.subplot(211)\n",
    "perf.portfolio_value.plot(ax=ax1)\n",
    "ax1.set_ylabel('portfolio value')\n",
    "ax2 = plt.subplot(212, sharex=ax1)\n",
    "perf.ETH.plot(ax=ax2)\n",
    "ax2.set_ylabel('ETH stock price')"
   ]
  },
  {
   "cell_type": "code",
   "execution_count": null,
   "metadata": {
    "collapsed": true
   },
   "outputs": [],
   "source": []
  }
 ],
 "metadata": {
  "anaconda-cloud": {},
  "kernelspec": {
   "display_name": "Python [default]",
   "language": "python",
   "name": "python3"
  },
  "language_info": {
   "codemirror_mode": {
    "name": "ipython",
    "version": 3
   },
   "file_extension": ".py",
   "mimetype": "text/x-python",
   "name": "python",
   "nbconvert_exporter": "python",
   "pygments_lexer": "ipython3",
   "version": "3.5.2"
  }
 },
 "nbformat": 4,
 "nbformat_minor": 0
}
